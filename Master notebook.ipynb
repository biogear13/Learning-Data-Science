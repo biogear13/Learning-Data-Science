{
 "cells": [
  {
   "cell_type": "markdown",
   "metadata": {},
   "source": [
    "# The Notebook"
   ]
  },
  {
   "cell_type": "markdown",
   "metadata": {},
   "source": [
    "Since graduating from a health related course, I began thinking what I want to do for my career. Early on I realized that I no longer see myself in the expected path of becoming a clinician. What followed were several years of searching for my passion. Finally two years ago, I was involved in research and here I was introduced to data. I was thrilled when I got a chance to analyze the findings of the research. Due to this, I was driven to learn more about analyzing data and this led me to data science. Unfortunately, I do not know how to start learning data science. I feel that I am out of my depth since data science was far removed from my finished course. I tried applying to several data science program but I was lucky enough to be accepted. Now I decided to start the journey by myself; getting information from different free courses, blogs or free books. Now this is my notebook."
   ]
  },
  {
   "cell_type": "markdown",
   "metadata": {},
   "source": [
    "## Contents\n",
    "- [Libraries](#Libraries)\n",
    "- [Coding](#Coding)\n",
    "- [Data Analytics Framework](#DataAnalyticsFramework)\n",
    "- [GITBasics](#GITBasics)\n",
    "- [Python Basics](#PythonBasics)"
   ]
  },
  {
   "cell_type": "markdown",
   "metadata": {},
   "source": [
    "## Libraries\n",
    "[back](#Contents)\n",
    "<br> The following are the most common libraries that are being used in data science"
   ]
  },
  {
   "cell_type": "markdown",
   "metadata": {},
   "source": [
    "### [NumPy](https://numpy.org/devdocs/user/index.html)"
   ]
  },
  {
   "cell_type": "markdown",
   "metadata": {},
   "source": [
    "Universal standard for working with numerical data in python. It is used extensively in Pandas, SciPy, Matplotlib, scikit-learn. The library contains multidimensional array and matrix data structures"
   ]
  },
  {
   "cell_type": "code",
   "execution_count": null,
   "metadata": {},
   "outputs": [],
   "source": [
    "import numpy as np"
   ]
  },
  {
   "cell_type": "markdown",
   "metadata": {},
   "source": [
    "### [Scipy](https://docs.scipy.org/doc/scipy/reference/)"
   ]
  },
  {
   "cell_type": "markdown",
   "metadata": {},
   "source": [
    "General scientific libraries with advanced solver"
   ]
  },
  {
   "cell_type": "code",
   "execution_count": 1,
   "metadata": {},
   "outputs": [],
   "source": [
    "import scipy"
   ]
  },
  {
   "cell_type": "markdown",
   "metadata": {},
   "source": [
    "### [Pandas](https://pandas.pydata.org/docs/getting_started/tutorials.html)"
   ]
  },
  {
   "cell_type": "markdown",
   "metadata": {},
   "source": [
    "a Python package providing fast, flexible, and expressive data structures designed to make working with “relational” or “labeled” data both easy and intuitive. It has two primary data structures, Series and Dataframe"
   ]
  },
  {
   "cell_type": "code",
   "execution_count": null,
   "metadata": {},
   "outputs": [],
   "source": [
    "import pandas as pd"
   ]
  },
  {
   "cell_type": "markdown",
   "metadata": {},
   "source": [
    "### [Matplotlib](https://matplotlib.org/3.1.1/contents.html)\n",
    "#### Pyplot"
   ]
  },
  {
   "cell_type": "markdown",
   "metadata": {},
   "source": [
    "matplotlib.pyplot these functions that make Matplotlib work like MATLAB. Each pyplot function makes some change to a figure: e.g., creates a figure, creates a plotting area in a figure, plots some lines in a plotting area, decorates the plot with labels, etc."
   ]
  },
  {
   "cell_type": "code",
   "execution_count": null,
   "metadata": {},
   "outputs": [],
   "source": [
    "import matplotlib.pyplot as plt"
   ]
  },
  {
   "cell_type": "markdown",
   "metadata": {},
   "source": [
    "### [Seaborn](https://seaborn.pydata.org/)"
   ]
  },
  {
   "cell_type": "markdown",
   "metadata": {},
   "source": [
    "aims to make visualization a central part of exploring and \n",
    "understanding data. Its dataset-oriented plotting functions operate on \n",
    "dataframes and arrays containing whole datasets and internally perform the \n",
    "necessary semantic mapping and statistical aggregation to produce informative \n",
    "plots."
   ]
  },
  {
   "cell_type": "code",
   "execution_count": null,
   "metadata": {},
   "outputs": [],
   "source": [
    "import seaborn as sns\n",
    "sns.set()"
   ]
  },
  {
   "cell_type": "markdown",
   "metadata": {},
   "source": [
    "### [Bokeh](https://docs.bokeh.org/en/latest/docs/user_guide/quickstart.html)"
   ]
  },
  {
   "cell_type": "markdown",
   "metadata": {},
   "source": [
    "a library for interactive data visualization. It renders its graphics using HTML and JavaScript which makes it a candidate for building web-based dashboards and applications."
   ]
  },
  {
   "cell_type": "code",
   "execution_count": null,
   "metadata": {},
   "outputs": [],
   "source": [
    "from bokeh.plotting import figure, output_file, show\n",
    "#this is just an example"
   ]
  },
  {
   "cell_type": "markdown",
   "metadata": {},
   "source": [
    "### [Scikit-learn](https://scikit-learn.org/stable/)"
   ]
  },
  {
   "cell_type": "markdown",
   "metadata": {},
   "source": [
    "is a library in Python that provides many unsurpervised and supervised learning algorithms."
   ]
  },
  {
   "cell_type": "code",
   "execution_count": null,
   "metadata": {},
   "outputs": [],
   "source": [
    "from sklearn.ensemble import RandomForestClassifier\n",
    "#this is just an example"
   ]
  },
  {
   "cell_type": "markdown",
   "metadata": {},
   "source": [
    "### [Natural Language Toolkit](https://www.guru99.com/nltk-tutorial.html)"
   ]
  },
  {
   "cell_type": "markdown",
   "metadata": {},
   "source": [
    "is one of the most powerful NLP libraries which contains packages to make machines understand human language and reply to it with an appropriate response."
   ]
  },
  {
   "cell_type": "code",
   "execution_count": null,
   "metadata": {},
   "outputs": [],
   "source": [
    "from nlk.tokenize import RegexpTokenizer"
   ]
  },
  {
   "cell_type": "markdown",
   "metadata": {},
   "source": [
    "### [GeoPandas](https://geopandas.org/)"
   ]
  },
  {
   "cell_type": "markdown",
   "metadata": {},
   "source": [
    "is an open source project to make working with geospatial data in python easier. GeoPandas extends the datatypes used by pandas to allow spatial operations on geometric types. Geometric operations are performed by shapely. Geopandas further depends on fiona for file access and descartes and matplotlib for plotting.\n",
    "dependicies:\n",
    "numpy\n",
    "pandas\n",
    "shapely\n",
    "fiona\n",
    "pyproj\n",
    "six"
   ]
  },
  {
   "cell_type": "code",
   "execution_count": null,
   "metadata": {},
   "outputs": [],
   "source": [
    "import geopandas"
   ]
  },
  {
   "cell_type": "markdown",
   "metadata": {},
   "source": [
    "## Coding\n",
    "[back](#Contents)"
   ]
  },
  {
   "cell_type": "markdown",
   "metadata": {},
   "source": [
    "This section will provide links to guides and standards on how to create a proper and readable code that is well documented."
   ]
  },
  {
   "cell_type": "markdown",
   "metadata": {},
   "source": [
    "### [Shortcut](https://yoursdata.net/jupyter-lab-shortcut-and-magic-functions-tips/)\n",
    "\n",
    "There are several keyboard shortcuts and majic functions that can be use to make life easier."
   ]
  },
  {
   "cell_type": "markdown",
   "metadata": {},
   "source": [
    "### [Markdown](https://medium.com/ibm-data-science-experience/markdown-for-jupyter-notebooks-cheatsheet-386c05aeebed)"
   ]
  },
  {
   "cell_type": "markdown",
   "metadata": {},
   "source": [
    "In jupyter notebooks, markdown is a very useful way to describe your code. Through this one can add texts, images, tables, videos and create hyperlinks to within as well to outside of the document."
   ]
  },
  {
   "cell_type": "markdown",
   "metadata": {},
   "source": [
    "### [Style Guide](https://www.python.org/dev/peps/pep-0008/)"
   ]
  },
  {
   "cell_type": "markdown",
   "metadata": {},
   "source": [
    "PEP 8 is a document that gives coding conventions for the Python code. This gives a guide for programmers on how they format their code but they also indicate that project style guidelines that differs from PEP takes precedent in that particular project. "
   ]
  },
  {
   "cell_type": "markdown",
   "metadata": {},
   "source": [
    "## DataAnalyticsFramework\n",
    "[back](#Contents)"
   ]
  },
  {
   "cell_type": "markdown",
   "metadata": {},
   "source": [
    "The [Analytics Association of the Philippines](https://aap.ph/) have created a framework to guide the conversation about data analytics by defining key terminologies."
   ]
  },
  {
   "cell_type": "markdown",
   "metadata": {},
   "source": [
    "#### Data Analytics Skill"
   ]
  },
  {
   "cell_type": "markdown",
   "metadata": {},
   "source": [
    "|Skill|Definition|Job|Level 0|Level 1|Level 2|Level 3|\n",
    "|-----|----------|---|-------|-------|-------|-------|\n",
    "|**Business and Organizational Skills**|||||||\n",
    "|Domain Knowledge and application|apply domain related knowledge and insights to contextualize data|Functional Analysts|No skill|Understand collected data, and how they are handled and applied in the specific industry domain.|Develop content strategy and information architecture to support a given industry domain|Make business cases to improve domain-related procedures through data-driven decision-making|\n",
    "|Data Management and governance|develop and implement data management strategies, incorporating privacy and data security, policies and regulations, and ethical onsiderations.|Data Stewards|No skill|aware and always apply policies and measures to ensure data security, privacy, intellectual property, and ethics.|enforce policies and procedures for data security, privacy, intellectual property, and ethics.|develop policies on data security, privacy, intellectual property, and ethics.|\n",
    "|Operational Analytics|use general and specialized analytics techniques for the investigation of all relevant data to derive insight for decision-making.|Analytics Managers|No skill|perform business analysis for specified tasks and data sets.|You identify business impact from trends and patterns.|You identify new opportunities to use historical data for organizational processes optimization.|\n",
    "|Data Visualization and presentation|create and communicate compelling and actionable insights from data using visualization and presentation tools and technologies.||No skill|You prepare data visualization reports or narratives based on provided specifications|You create infographics for effective presentation and communication of actionable outcomes.|You select appropriate and develop new visualization methods used in a specific industry.|\n",
    "|**Technical skills**|||||||\n",
    "|Research methods|strategies, processes or techniques utilized in the collection of data or evidence for analysis in order to uncover new information or create better understanding of a topic.|Data Scientists|No skill|You understand and use the 4-step research model: hypothesis, research methods, artifact, evaluation.|You develop research questions around identified issues within existing research or business process models.|You Design experiments which include data collection (passive and active) for hypothesis testing and problem solving.|\n",
    "|Data engineering principles|They are the ones who will bring all the needed data from the various sources, extract, clean, aggregate, transform, and finally load them to the identified data repositories|Data Engineers|No skill|You have knowledge and ability to program selected SQL and NoSQL platform for data storage and access, in particular write ETL scripts.|You design and build relational and non-relational databases, ensure effective ETL processes for large datasets.|You have advanced knowledge and experience of using modern Big Data technologies to process different data types from multiple sources.|\n",
    "|Statistical Techniques|Here, mathematical formulas are used in the analysis of raw research data. The application of these techniques extracts information from research data and provides different ways to assess the robustness of research outputs.|Data Scientists|No skill|You know and use statistical methods such as sampling, ANOVA, hypothesis testing, descriptive statistics, regression analysis, and others.|You select and recommend appropriate statistical methods and tools for specific tasks and data.|You identify problems with collected data and suggest corrective measures, including additional data collection, inspection, and pre-processing.|\n",
    "|Data Analystics Methods and Algorithms|implement and evaluate machine learning methods and algorithms on the data to derive insights for decision- making.|Data Scientists|No skill|You demonstrate understanding and perform statistical hypothesis testing; you can explain statistical significance of collected data.|You apply quantitative techniques (e.g., time series analysis, optimization, simulation) to deploy appropriate models for analysis and prediction.|You assess data on reliability and appropriateness; you select appropriate approaches and their impact on analysis and the quality of the results.|\n",
    "|Computing|apply information technology, computational thinking, and utilize programming languages and software and hardware solutions for data analysis.|Data Engineers, Data Scientists|No skill|You perform basic data manipulation, analysis, and visualization.|You apply computational thinking to transform formal data models and process algorithms into program code.|You select appropriate application and statistical programming languages, and development platforms for specific processes and data sets.|\n",
    "|**21st Century Skills**|\n",
    "|Critical Thinking|Demonstrating the ability to apply critical thinking skills to solve problems and make effective decisions|\n",
    "|Communication|Understanding and communicating ideas|\n",
    "|Collaboration|Working with others|\n",
    "|Creativity and Attitude|Deliver high quality work and focus on final result, initiative, intellectual risk|\n",
    "|Plannining and Organizing|Planning and prioritizing work to manage time effectively and accomplish tasks|\n",
    "|Business fundamentals|Having fundamental knowledge of the organization and the industry|\n",
    "|Customer Focus|Actively look for ways to identify market demands and meet client needs|\n",
    "|Working with Tools and Technology|Selecting, using and maintaining tools and technology to facilitate work activity|\n",
    "|Dynamic (self-) re-skilling|ability to adopt to change|\n",
    "|Professional network|involvement to professional network activities|\n",
    "|Ethics|ethics in the use of technology, biased data collection and presentation|"
   ]
  },
  {
   "cell_type": "markdown",
   "metadata": {},
   "source": [
    "## [GITBasics](https://geo-python.github.io/site/lessons/L2/git-basics.html)\n",
    "[back](#Contents)"
   ]
  },
  {
   "cell_type": "markdown",
   "metadata": {},
   "source": [
    "Git is a distributed version-control system for tracking changes in source code during software development."
   ]
  },
  {
   "cell_type": "markdown",
   "metadata": {},
   "source": [
    "## PythonBasics\n",
    "[back](#Contents)"
   ]
  },
  {
   "cell_type": "markdown",
   "metadata": {},
   "source": [
    "### Basic operations"
   ]
  },
  {
   "cell_type": "code",
   "execution_count": 4,
   "metadata": {
    "collapsed": true,
    "jupyter": {
     "outputs_hidden": true
    }
   },
   "outputs": [
    {
     "data": {
      "text/plain": [
       "True"
      ]
     },
     "execution_count": 4,
     "metadata": {},
     "output_type": "execute_result"
    }
   ],
   "source": [
    "# Numbers\n",
    "10 + 4       # add\n",
    "10 - 4       # subtract\n",
    "10 * 4       # multiply\n",
    "10 ** 4      # exponent\n",
    "10 / 4       # divide\n",
    "5 % 4        # modulo\n",
    "10 // 4      # floor division\n",
    "# Boolean operations\n",
    "5>4\n",
    "5>=3\n",
    "5!=3\n",
    "5 == 5\n",
    "5 > 3 and 6 > 3\n",
    "5 > 3 or 5 <3\n",
    "not False\n",
    "False or not False and True # evaluation order: not. and, or"
   ]
  },
  {
   "cell_type": "markdown",
   "metadata": {},
   "source": [
    "### [Functions](https://docs.python.org/3/tutorial/controlflow.html)"
   ]
  },
  {
   "cell_type": "markdown",
   "metadata": {},
   "source": [
    "Functions are set of instructions launched when called upon, they can have multiple input values and a return value. Usually has a [docstring](https://www.python.org/dev/peps/pep-0257/)."
   ]
  },
  {
   "cell_type": "code",
   "execution_count": 1,
   "metadata": {},
   "outputs": [],
   "source": [
    "def double(x):\n",
    "    '''This is an  example how a function would look like.\n",
    "    The function starts with def then the name of the function.\n",
    "    Then enclosed in the parenthesis is the input.\n",
    "    There could be more than one input. Afterwhich, enclosed in 3 quotation\n",
    "    marks, is a docstring that describe the function.\n",
    "    Next is the body of the function and lastly the output you want.'''\n",
    "    return x * 2"
   ]
  },
  {
   "cell_type": "markdown",
   "metadata": {},
   "source": [
    "### [Strings](https://docs.python.org/3/library/string.html)"
   ]
  },
  {
   "cell_type": "code",
   "execution_count": 5,
   "metadata": {},
   "outputs": [
    {
     "name": "stdout",
     "output_type": "stream",
     "text": [
      "data science\n",
      "data science\n",
      "I\n",
      "I like\n",
      "you\n",
      "u\n",
      "i like you\n",
      "I LIKE YOU\n",
      "True\n",
      "True\n",
      "False\n",
      "2\n",
      "-1\n",
      "I love you\n",
      "['I', 'like', 'you']\n",
      "['I', 'like', 'you']\n",
      "['a', ' an', ' the']\n",
      "larry curly moe\n",
      "The meaning of life is 42\n",
      "The meaning of life is 42\n",
      "ham and cheese\n",
      "raining cats and dogs\n",
      "raining cats and dogs\n",
      "raining cats and dogs\n",
      "first line\n",
      "second line\n",
      "first line\\nfirst line\n"
     ]
    }
   ],
   "source": [
    "# create \n",
    "s = str(42) # convert another data type into a string \n",
    "s = 'I like you'\n",
    "\n",
    "# single or double quotation marks could be used\n",
    "print('data science')\n",
    "print(\"data science\")\n",
    "\n",
    "# examine a string \n",
    "print(s[0]) # returns 'I' len(s) # returns 10\n",
    "\n",
    "# string slicing like lists \n",
    "print(s[:6]) # returns 'I like' \n",
    "print(s[7:]) # returns 'you' \n",
    "print(s[-1]) # returns 'u'\n",
    "\n",
    "# basic string methods (does not modify the original string)\n",
    "print(s.lower()) # returns 'i like you' \n",
    "print(s.upper()) # returns 'I LIKE YOU' \n",
    "print(s.startswith('I')) # returns True \n",
    "print(s.endswith('you')) # returns True \n",
    "print(s.isdigit()) # returns False (returns True if every character in the string is, →a digit) \n",
    "print(s.find('like')) # returns index of first occurrence (2), but doesn't support regex \n",
    "print(s.find('hate')) # returns -1 since not found \n",
    "print(s.replace('like','love')) # replaces all instances of 'like' with 'love'\n",
    "\n",
    "# split a string into a list of substrings separated by a delimiter \n",
    "print(s.split(' ')) # returns ['I','like','you'] \n",
    "print(s.split()) # same thing \n",
    "s2 = 'a, an, the' \n",
    "print(s2.split(',')) # returns ['a',' an',' the']\n",
    "\n",
    "# join a list of strings into one string using a delimiter \n",
    "stooges = ['larry','curly','moe'] \n",
    "print(' '.join(stooges)) # returns 'larry curly moe'\n",
    "\n",
    "# concatenate strings \n",
    "s3 = 'The meaning of life is' \n",
    "s4 = '42' \n",
    "print(s3 + ' ' + s4) # returns 'The meaning of life is 42' \n",
    "print(s3 + ' ' + str(42)) # same thing\n",
    "\n",
    "# remove whitespace from start and end of a string \n",
    "s5 = ' ham and cheese ' \n",
    "print(s5.strip()) # returns 'ham and cheese'\n",
    "\n",
    "# string substitutions: all of these return 'raining cats and dogs' \n",
    "print('raining %s and %s' % ('cats','dogs')) # old way \n",
    "print('raining {} and {}'.format('cats','dogs')) # new way \n",
    "print('raining {arg1} and {arg2}'.format(arg1='cats',arg2='dogs')) # named arguments\n",
    "\n",
    "print('first line\\nsecond line')\n",
    "print(r'first line\\nfirst line')"
   ]
  },
  {
   "cell_type": "markdown",
   "metadata": {},
   "source": [
    "### [Exceptions](https://docs.python.org/3/tutorial/errors.html)"
   ]
  },
  {
   "cell_type": "markdown",
   "metadata": {},
   "source": [
    "When something goes wrong, Python raises an exception. Unhandled, these will cause your program to crash. You can handle them using try and except:"
   ]
  },
  {
   "cell_type": "code",
   "execution_count": 3,
   "metadata": {},
   "outputs": [
    {
     "name": "stdout",
     "output_type": "stream",
     "text": [
      "cannot divide by zero\n"
     ]
    }
   ],
   "source": [
    "try:\n",
    "    print (0/0)\n",
    "except ZeroDivisionError:\n",
    "    print (\"cannot divide by zero\")"
   ]
  },
  {
   "cell_type": "code",
   "execution_count": 4,
   "metadata": {},
   "outputs": [
    {
     "name": "stdout",
     "output_type": "stream",
     "text": [
      "Key c is missing. Add it with empty value\n",
      "{'a': [1, 2], 'b': [4, 5], 'c': []}\n"
     ]
    }
   ],
   "source": [
    "dct = dict(a=[1, 2], b=[4, 5])\n",
    "key = 'c'\n",
    "try: \n",
    "    dct[key] \n",
    "except: \n",
    "    print(\"Key %s is missing. Add it with empty value\" % key) \n",
    "    dct['c'] = []\n",
    "print(dct)\n"
   ]
  },
  {
   "cell_type": "markdown",
   "metadata": {},
   "source": [
    "### [Lists](https://docs.python.org/3/tutorial/datastructures.html)"
   ]
  },
  {
   "cell_type": "code",
   "execution_count": null,
   "metadata": {},
   "outputs": [],
   "source": [
    "list_ex = [1,2,3]"
   ]
  },
  {
   "cell_type": "markdown",
   "metadata": {},
   "source": [
    "### [Tuples](https://docs.python.org/3/tutorial/datastructures.html)"
   ]
  },
  {
   "cell_type": "code",
   "execution_count": null,
   "metadata": {},
   "outputs": [],
   "source": [
    "tuple_ex = (4, 5, 6)"
   ]
  },
  {
   "cell_type": "markdown",
   "metadata": {},
   "source": [
    "### [Dictionaries](https://docs.python.org/3/tutorial/datastructures.html)"
   ]
  },
  {
   "cell_type": "code",
   "execution_count": 5,
   "metadata": {},
   "outputs": [],
   "source": [
    "dictionary_ex = {'a' : 7, 'b' : 8, 'c' : 9}"
   ]
  },
  {
   "cell_type": "markdown",
   "metadata": {},
   "source": [
    "#### [defaultdict](https://docs.python.org/2/library/collections.html)\n",
    "(from Data Science from Scratch)"
   ]
  },
  {
   "cell_type": "markdown",
   "metadata": {},
   "source": [
    "#### [counter](https://docs.python.org/2/library/collections.html)\n",
    "(from Data Science from Scratch)"
   ]
  },
  {
   "cell_type": "markdown",
   "metadata": {},
   "source": [
    "### [Sets](https://docs.python.org/3/tutorial/datastructures.html)"
   ]
  },
  {
   "cell_type": "markdown",
   "metadata": {},
   "source": [
    "Represents a collection of distinct elements. They are: unordered, iterable, mutable, can contain multiple data types made up of unique elements (strings, numbers or tuples)"
   ]
  },
  {
   "cell_type": "code",
   "execution_count": 6,
   "metadata": {},
   "outputs": [],
   "source": [
    "set_ex = {'d', 10, ('d', 10)}"
   ]
  },
  {
   "cell_type": "markdown",
   "metadata": {},
   "source": [
    "### [Control Flow](https://docs.python.org/3/tutorial/controlflow.html)"
   ]
  },
  {
   "cell_type": "markdown",
   "metadata": {},
   "source": [
    "#### [Conditional statements](https://docs.python.org/3/tutorial/controlflow.html)"
   ]
  },
  {
   "cell_type": "code",
   "execution_count": 7,
   "metadata": {},
   "outputs": [
    {
     "name": "stdout",
     "output_type": "stream",
     "text": [
      "positive\n"
     ]
    }
   ],
   "source": [
    "x=3\n",
    "if x > 0: \n",
    "    print('positive') \n",
    "elif x == 0: \n",
    "    print('zero') \n",
    "else: \n",
    "    print('negative')"
   ]
  },
  {
   "cell_type": "markdown",
   "metadata": {},
   "source": [
    "#### [Loops](https://docs.python.org/3/tutorial/controlflow.html)"
   ]
  },
  {
   "cell_type": "code",
   "execution_count": 9,
   "metadata": {},
   "outputs": [
    {
     "name": "stdout",
     "output_type": "stream",
     "text": [
      "0 is less than 10\n",
      "1 is less than 10\n",
      "2 is less than 10\n",
      "3 is less than 10\n",
      "4 is less than 10\n",
      "5 is less than 10\n",
      "6 is less than 10\n",
      "7 is less than 10\n",
      "8 is less than 10\n",
      "9 is less than 10\n",
      "0 is < 10\n",
      "1 is < 10\n",
      "2 is < 10\n",
      "3 is < 10\n",
      "4 is < 10\n",
      "5 is < 10\n",
      "6 is < 10\n",
      "7 is < 10\n",
      "8 is < 10\n",
      "9 is < 10\n"
     ]
    }
   ],
   "source": [
    "# while loops\n",
    "x = 0 \n",
    "while x < 10:\n",
    "    print (x, \"is less than 10\")\n",
    "    x += 1\n",
    "\n",
    "# for loops\n",
    "for x in range(10):    \n",
    "    print (x, \"is < 10\")"
   ]
  },
  {
   "cell_type": "markdown",
   "metadata": {},
   "source": [
    "### [Sorting](https://docs.python.org/3/howto/sorting.html)"
   ]
  },
  {
   "cell_type": "markdown",
   "metadata": {},
   "source": [
    "Sorting method for python lists."
   ]
  },
  {
   "cell_type": "code",
   "execution_count": null,
   "metadata": {},
   "outputs": [],
   "source": [
    "# sort the list by absolute value from largest to smallest \n",
    "x = sorted([-4,1,-2,3], key=abs, reverse=True)  # is [-4,3,-2,1]"
   ]
  },
  {
   "cell_type": "markdown",
   "metadata": {},
   "source": [
    "### [List Comprehensions](https://docs.python.org/3/tutorial/datastructures.html#list-comprehensions)"
   ]
  },
  {
   "cell_type": "markdown",
   "metadata": {},
   "source": [
    "### [Generators and Iterator](https://docs.python.org/3/howto/functional.html#iterators)"
   ]
  },
  {
   "cell_type": "markdown",
   "metadata": {},
   "source": [
    "### [Randomness](https://docs.python.org/2/library/random.html)"
   ]
  },
  {
   "cell_type": "markdown",
   "metadata": {},
   "source": [
    "In data science, random numbers are often needed to be generated. One python module (random module) produces pseudorandom numbers."
   ]
  },
  {
   "cell_type": "code",
   "execution_count": 10,
   "metadata": {},
   "outputs": [
    {
     "data": {
      "text/plain": [
       "0.34460870031142155"
      ]
     },
     "execution_count": 10,
     "metadata": {},
     "output_type": "execute_result"
    }
   ],
   "source": [
    "import random\n",
    "random.random()"
   ]
  },
  {
   "cell_type": "markdown",
   "metadata": {},
   "source": [
    "### [Regular Expression](https://docs.python.org/3/library/re.html)"
   ]
  },
  {
   "cell_type": "markdown",
   "metadata": {},
   "source": [
    "Regular expressions provide a way of searching text. This is from the re module"
   ]
  },
  {
   "cell_type": "code",
   "execution_count": 12,
   "metadata": {},
   "outputs": [
    {
     "name": "stdout",
     "output_type": "stream",
     "text": [
      "True\n"
     ]
    }
   ],
   "source": [
    "import re\n",
    "print (all([                                # all of these are true, because    \n",
    "    not re.match(\"a\", \"cat\"),              # * 'cat' doesn't start with 'a'    \n",
    "    re.search(\"a\", \"cat\"),                 # * 'cat' has an 'a' in it    \n",
    "    not re.search(\"c\", \"dog\"),             # * 'dog' doesn't have a 'c' in it    \n",
    "    3 == len(re.split(\"[ab]\", \"carbs\")),   # * split on a or b to ['c','r','s']    \n",
    "    \"R-D-\" == re.sub(\"[0-9]\", \"-\", \"R2D2\") # * replace digits with dashes    \n",
    "    ]))  # prints True "
   ]
  },
  {
   "cell_type": "markdown",
   "metadata": {},
   "source": [
    "### [Object-Oriented Programming](https://docs.python.org/3/tutorial/classes.html)"
   ]
  },
  {
   "cell_type": "code",
   "execution_count": null,
   "metadata": {},
   "outputs": [],
   "source": [
    "class HospitalStaff:\n",
    "    \n",
    "    kind = 'doctor'             # class carieable shared by all instances\n",
    "    \n",
    "    def __init__(self, name):\n",
    "        self.name = name       # instance variable unique to each instance\n",
    "        self.department = []   # creates a new empty list for each doctor\n",
    "        \n",
    "    def add_department(self, department):\n",
    "        self.tricks.append(trick)\n",
    "\n",
    "'''\n",
    ">>>l = HospitalStaff(\"Lyn\")\n",
    ">>>b = HospitalStaff(\"Bryan\")\n",
    ">>>l.kind\n",
    "\"doctor\"\n",
    ">>>b.kind\n",
    "\"doctor\"\n",
    ">>>l.name\n",
    "\"Lyn\"\n",
    ">>>b.name\n",
    "\"bryan\"\n",
    ">>>l.add_department(\"Toxicology\")\n",
    ">>>b.add_department(\"Infectious Disease\")\n",
    ">>>l.department\n",
    "[\"Toxicology\"]\n",
    ">>>b.department\n",
    "[\"Infectious Disease\"]'''"
   ]
  },
  {
   "cell_type": "markdown",
   "metadata": {},
   "source": [
    "### Functional Tools"
   ]
  },
  {
   "cell_type": "markdown",
   "metadata": {},
   "source": [
    "#### [enumerate](https://docs.python.org/3/library/functions.html#enumerate)"
   ]
  },
  {
   "cell_type": "markdown",
   "metadata": {},
   "source": [
    "#### [zip](https://docs.python.org/3/library/functions.html#enumerate) and Argument Unpacking"
   ]
  },
  {
   "cell_type": "markdown",
   "metadata": {},
   "source": [
    "#### [args and kwargs](https://book.pythontips.com/en/latest/args_and_kwargs.html)"
   ]
  },
  {
   "cell_type": "markdown",
   "metadata": {},
   "source": [
    "### System programming"
   ]
  },
  {
   "cell_type": "markdown",
   "metadata": {},
   "source": [
    "#### [Operating system interfaces (os)](https://docs.python.org/3/library/os.html)"
   ]
  },
  {
   "cell_type": "markdown",
   "metadata": {},
   "source": [
    "#### File input/output"
   ]
  },
  {
   "cell_type": "code",
   "execution_count": null,
   "metadata": {},
   "outputs": [],
   "source": [
    "filename = os.path.join(mytmpdir, \"myfile.txt\") print(filename)\n",
    "\n",
    "# Write \n",
    "lines = [\"Dans python tout est bon\", \"Enfin, presque\"]\n",
    "\n",
    "## write line by line fd = open(filename, \"w\") \n",
    "fd.write(lines[0] + \"\\n\") \n",
    "fd.write(lines[1]+ \"\\n\") \n",
    "fd.close()\n",
    "\n",
    "## use a context manager to automatically close your file \n",
    "with open(filename, 'w') as f: \n",
    "    for line in lines: \n",
    "        f.write(line + '\\n')\n",
    "\n",
    "# Read \n",
    "## read one line at a time (entire file does not have to fit into memory) \n",
    "f = open(filename, \"r\") \n",
    "f.readline() # one string per line (including newlines) \n",
    "f.readline() # next line \n",
    "f.close()\n",
    "\n",
    "## read one line at a time (entire file does not have to fit into memory) \n",
    "f = open(filename, 'r') \n",
    "f.readline() # one string per line (including newlines) \n",
    "f.readline() # next line \n",
    "f.close()\n",
    "\n",
    "## read the whole file at once, return a list of lines \n",
    "f = open(filename, 'r') \n",
    "f.readlines() # one list, each line is one string \n",
    "f.close()\n",
    "\n",
    "## use list comprehension to duplicate readlines without reading entire file at once \n",
    "f = open(filename, 'r') \n",
    "[line for line in f] \n",
    "f.close()\n",
    "\n",
    "## use a context manager to automatically close your file \n",
    "with open(filename, 'r') as f: \n",
    "    lines = [line for line in f]\n"
   ]
  }
 ],
 "metadata": {
  "kernelspec": {
   "display_name": "Python 3",
   "language": "python",
   "name": "python3"
  },
  "language_info": {
   "codemirror_mode": {
    "name": "ipython",
    "version": 3
   },
   "file_extension": ".py",
   "mimetype": "text/x-python",
   "name": "python",
   "nbconvert_exporter": "python",
   "pygments_lexer": "ipython3",
   "version": "3.7.3"
  }
 },
 "nbformat": 4,
 "nbformat_minor": 4
}
