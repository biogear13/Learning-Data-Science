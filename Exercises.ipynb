{
 "cells": [
  {
   "cell_type": "markdown",
   "metadata": {},
   "source": [
    "# Exercise: functions\n",
    "Create a function that acts as a simple calulator If the operation is not speciﬁed, default to addition If the operation is misspeciﬁed, return an prompt message Ex: calc(4,5,\"multiply\") returns 20 Ex: calc(3,5) returns 8 Ex: calc(1, 2, \"something\") returns error message"
   ]
  },
  {
   "cell_type": "code",
   "execution_count": 19,
   "metadata": {
    "collapsed": true,
    "jupyter": {
     "outputs_hidden": true
    }
   },
   "outputs": [
    {
     "data": {
      "text/plain": [
       "'Error: Mispecified operation'"
      ]
     },
     "execution_count": 19,
     "metadata": {},
     "output_type": "execute_result"
    }
   ],
   "source": [
    "def calc(x,y,operation = 'add'):\n",
    "    '''\n",
    "    A simple calculatior which add two numbers by default unless otherwise specified and return a prompt messafe if the \n",
    "    operation is misspecified.\n",
    "    \n",
    "    Args:\n",
    "      x and y(int): two integers that will be used in the computation.\n",
    "      operation(string): the calculation that will be done.\n",
    "    \n",
    "    Raises:\n",
    "      Misspecified operation\n",
    "      \n",
    "    Returns:\n",
    "      result(int): the result of the computation\n",
    "    '''\n",
    "    if operation is 'add':\n",
    "        result = x + y\n",
    "    elif operation is 'subtract':\n",
    "        result = x - y\n",
    "    elif operation is 'multiply':\n",
    "        result = x * y\n",
    "    elif operation is 'divide':\n",
    "        result = x / y\n",
    "    elif operation is 'exponet':\n",
    "        result = x ** y\n",
    "    else:\n",
    "        result = 'Error: Mispecified operation'\n",
    "    return result\n",
    "calc(4,5,'big')"
   ]
  },
  {
   "cell_type": "markdown",
   "metadata": {},
   "source": [
    "# Exercise: functions + list + loop\n",
    "Given a list of numbers, return a list where all adjacent duplicate elements have been reduced to a single element. Ex: [1, 2, 2, 3, 2] returns [1, 2, 3, 2]. You may create a new list or modify the passed in list. Remove all duplicate values (adjacent or not) Ex: [1, 2, 2, 3, 2] returns [1, 2, 3]"
   ]
  },
  {
   "cell_type": "code",
   "execution_count": null,
   "metadata": {},
   "outputs": [],
   "source": [
    "def remove_adjacent_duplicate(list = []):\n",
    "    '''Return a list where all adjacent duplicate elements have been reduced to a single element. \n",
    "    \n",
    "    Args:\n",
    "    list(list): A list of integers.\n",
    "    \n",
    "    Return:\n",
    "    removed_adjacent(list): A list where adjacent duplicate elements are removed.\n",
    "    '''\n",
    "    removed_adjacent = []\n",
    "    for i in len(list):\n",
    "        if list[i] != list[i-1]:\n",
    "            removed_adjacent.append(list[i])\n",
    "    return removed_adjacent\n",
    "remove_ad"
   ]
  },
  {
   "cell_type": "markdown",
   "metadata": {},
   "source": [
    "# Exercise: File I/O\n",
    "Copy/past the _BSD 4 clause license_ into a text ﬁle. Read, the ﬁle (assuming this ﬁle could be huge) and count the occurrences of each word within the ﬁle. Words are separated by whitespace or new line characters."
   ]
  },
  {
   "cell_type": "markdown",
   "metadata": {},
   "source": [
    "# Exercise: OOP\n",
    "1. Create a class Employee with 2 attributes provided in the constructor: name, years_of_service. With one method salary with is obtained by 1500 + 100 * years_of_service. \n",
    "2. Create a subclass Manager which redeﬁne salary method 2500 + 120 * years_of_service. \n",
    "3. Create a small dictionary-nosed database where the key is the employee’s name. Populate the database with: samples = Employee(‘lucy’, 3), Employee(‘john’, 1), Manager(‘julie’, 10), Manager(‘paul’, 3) \n",
    "4. Return a table of made name, salary rows, i.e. a list of list [[name, salary]]\n",
    "5. Compute the average salary"
   ]
  }
 ],
 "metadata": {
  "kernelspec": {
   "display_name": "Python 3",
   "language": "python",
   "name": "python3"
  },
  "language_info": {
   "codemirror_mode": {
    "name": "ipython",
    "version": 3
   },
   "file_extension": ".py",
   "mimetype": "text/x-python",
   "name": "python",
   "nbconvert_exporter": "python",
   "pygments_lexer": "ipython3",
   "version": "3.7.3"
  }
 },
 "nbformat": 4,
 "nbformat_minor": 4
}
